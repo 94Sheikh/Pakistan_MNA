{
 "cells": [
  {
   "cell_type": "code",
   "execution_count": null,
   "id": "5480fcb5",
   "metadata": {},
   "outputs": [],
   "source": [
    "# 10 MNA of Pakistan Parliment"
   ]
  },
  {
   "cell_type": "code",
   "execution_count": 9,
   "id": "0757623a",
   "metadata": {},
   "outputs": [],
   "source": [
    "NA_1 = \"Chitral\""
   ]
  },
  {
   "cell_type": "code",
   "execution_count": 9,
   "id": "f6197ecf",
   "metadata": {},
   "outputs": [],
   "source": [
    "MAAC = \"Moulana Abdul Akbar Chitrali\""
   ]
  },
  {
   "cell_type": "code",
   "execution_count": 10,
   "id": "a061ea4f",
   "metadata": {},
   "outputs": [],
   "source": [
    "MMAP = \"MMAP\""
   ]
  },
  {
   "cell_type": "code",
   "execution_count": 11,
   "id": "19300617",
   "metadata": {},
   "outputs": [],
   "source": [
    "MAAC_CaddressLocal = \"G-408, Parliament Lodges, Islamabad\""
   ]
  },
  {
   "cell_type": "code",
   "execution_count": 12,
   "id": "8d638bbe",
   "metadata": {},
   "outputs": [],
   "source": [
    "MAAC_CaddressPer = \"Village Broze Goldeh, Tehsil & District Chitral\""
   ]
  },
  {
   "cell_type": "code",
   "execution_count": 13,
   "id": "92e8d5d6",
   "metadata": {},
   "outputs": [],
   "source": [
    "MAAC_contac = \"0345-9411119\""
   ]
  },
  {
   "cell_type": "code",
   "execution_count": 14,
   "id": "bc49bb75",
   "metadata": {},
   "outputs": [],
   "source": [
    "NA_1 = NA_1+ \"\" + MAAC+ \"\" + MMAP + \"\" + MAAC_CaddressLocal + MAAC_CaddressPer + MAAC_contac"
   ]
  },
  {
   "cell_type": "code",
   "execution_count": 15,
   "id": "4ab2029e",
   "metadata": {},
   "outputs": [],
   "source": [
    "MAAC_NA = NA_1 + MAAC + MMAP + MAAC_CaddressLocal + MAAC_CaddressPer + MAAC_contac"
   ]
  },
  {
   "cell_type": "code",
   "execution_count": 17,
   "id": "c7b45d45",
   "metadata": {},
   "outputs": [],
   "source": [
    "MAAC_NA = NA_1 + MAAC + MMAP + MAAC_CaddressLocal + MAAC_CaddressPer + MAAC_contac"
   ]
  },
  {
   "cell_type": "code",
   "execution_count": 18,
   "id": "d54c78f2",
   "metadata": {},
   "outputs": [
    {
     "data": {
      "text/plain": [
       "'ChitralMoulana Abdul Akbar ChitraliMMAPG-408, Parliament Lodges, IslamabadVillage Broze Goldeh, Tehsil & District Chitral0345-9411119Moulana Abdul Akbar ChitraliMMAPG-408, Parliament Lodges, IslamabadVillage Broze Goldeh, Tehsil & District Chitral0345-9411119'"
      ]
     },
     "execution_count": 18,
     "metadata": {},
     "output_type": "execute_result"
    }
   ],
   "source": [
    "MAAC_NA"
   ]
  },
  {
   "cell_type": "code",
   "execution_count": 19,
   "id": "d8b78e08",
   "metadata": {},
   "outputs": [],
   "source": [
    "NA_10 = \"Shangla\""
   ]
  },
  {
   "cell_type": "code",
   "execution_count": 20,
   "id": "f36fd4f4",
   "metadata": {},
   "outputs": [],
   "source": [
    "MIK = \"Mr. Ibadullah Khan\""
   ]
  },
  {
   "cell_type": "code",
   "execution_count": 21,
   "id": "5c41bf85",
   "metadata": {},
   "outputs": [],
   "source": [
    "PML_N = \"PML-N\""
   ]
  },
  {
   "cell_type": "code",
   "execution_count": 22,
   "id": "560a5e15",
   "metadata": {},
   "outputs": [],
   "source": [
    "MIK_addressLocal = \"P/O Khaas Chagum Tehsil Puran District Shangla.\""
   ]
  },
  {
   "cell_type": "code",
   "execution_count": 23,
   "id": "5a6cf8fd",
   "metadata": {},
   "outputs": [],
   "source": [
    "MIK_addressPer = \"J-312, Par liament Lodges, Islamabad\"\n"
   ]
  },
  {
   "cell_type": "code",
   "execution_count": 24,
   "id": "717772a6",
   "metadata": {},
   "outputs": [],
   "source": [
    "MIK_Contact = \"0347-4444544\""
   ]
  },
  {
   "cell_type": "code",
   "execution_count": 27,
   "id": "8af73c3e",
   "metadata": {},
   "outputs": [],
   "source": [
    "MIK_NA = NA_10+\"\"+MIK+\"\"+PML_N+\"\"+MIK_addressLocal+\"\"+MIK_addressPer+\"\"+\"\"+MIK_Contact"
   ]
  },
  {
   "cell_type": "code",
   "execution_count": 28,
   "id": "e581c6d6",
   "metadata": {},
   "outputs": [
    {
     "data": {
      "text/plain": [
       "'ShanglaMr. Ibadullah KhanPML-NP/O Khaas Chagum Tehsil Puran District Shangla.J-312, Par liament Lodges, Islamabad0347-4444544'"
      ]
     },
     "execution_count": 28,
     "metadata": {},
     "output_type": "execute_result"
    }
   ],
   "source": [
    "MIK_NA"
   ]
  },
  {
   "cell_type": "code",
   "execution_count": 29,
   "id": "fe4c1709",
   "metadata": {},
   "outputs": [
    {
     "data": {
      "text/plain": [
       "'ShanglaMr. Ibadullah KhanPML-NP/O Khaas Chagum Tehsil Puran District Shangla.J-312, Par liament Lodges, Islamabad0347-4444544'"
      ]
     },
     "execution_count": 29,
     "metadata": {},
     "output_type": "execute_result"
    }
   ],
   "source": [
    "MIK_NA"
   ]
  },
  {
   "cell_type": "code",
   "execution_count": 30,
   "id": "78504bfe",
   "metadata": {},
   "outputs": [],
   "source": [
    "MIK_NA = NA_10+\"\"+MIK+\"\"+PML_N+\"\"+MIK_addressLocal+\"\"+MIK_addressPer+\"\"+\"\"+\"\"+MIK_Contact"
   ]
  },
  {
   "cell_type": "code",
   "execution_count": 31,
   "id": "9b1c2061",
   "metadata": {},
   "outputs": [
    {
     "data": {
      "text/plain": [
       "'ShanglaMr. Ibadullah KhanPML-NP/O Khaas Chagum Tehsil Puran District Shangla.J-312, Par liament Lodges, Islamabad0347-4444544'"
      ]
     },
     "execution_count": 31,
     "metadata": {},
     "output_type": "execute_result"
    }
   ],
   "source": [
    "MIK_NA"
   ]
  },
  {
   "cell_type": "code",
   "execution_count": 32,
   "id": "e777da4b",
   "metadata": {},
   "outputs": [],
   "source": [
    "NA_11 = \"Kohistan-cum-Lower Kohistan-cum-Kolai Pallas Kohistan\""
   ]
  },
  {
   "cell_type": "code",
   "execution_count": 33,
   "id": "5e146c40",
   "metadata": {},
   "outputs": [],
   "source": [
    "MAK = \"Mr. Afreen Khan \""
   ]
  },
  {
   "cell_type": "code",
   "execution_count": 34,
   "id": "ef5170fe",
   "metadata": {},
   "outputs": [],
   "source": [
    "MAK_addressLocal = \"Kuz Thoti Kandia Kohistan. \""
   ]
  },
  {
   "cell_type": "code",
   "execution_count": 35,
   "id": "7e375e48",
   "metadata": {},
   "outputs": [],
   "source": [
    "MAK_addressPre = \"J-112, Parliament Lodges, Islamabad \""
   ]
  },
  {
   "cell_type": "code",
   "execution_count": 36,
   "id": "869785cd",
   "metadata": {},
   "outputs": [],
   "source": [
    "MAK_Contact = \"0300-3968667\""
   ]
  },
  {
   "cell_type": "code",
   "execution_count": 37,
   "id": "9f820c1f",
   "metadata": {},
   "outputs": [],
   "source": [
    "MAK_NA = NA_11+MMAP+MAK+MAK_addressLocal+MAK_addressPre+MAK_Contact"
   ]
  },
  {
   "cell_type": "code",
   "execution_count": 38,
   "id": "8f9827f7",
   "metadata": {},
   "outputs": [
    {
     "data": {
      "text/plain": [
       "'Kohistan-cum-Lower Kohistan-cum-Kolai Pallas KohistanMMAPMr. Afreen Khan Kuz Thoti Kandia Kohistan. J-112, Parliament Lodges, Islamabad 0300-3968667'"
      ]
     },
     "execution_count": 38,
     "metadata": {},
     "output_type": "execute_result"
    }
   ],
   "source": [
    "MAK_NA"
   ]
  },
  {
   "cell_type": "code",
   "execution_count": 39,
   "id": "b93d345c",
   "metadata": {},
   "outputs": [],
   "source": [
    "NA_12 = \"Battagram \""
   ]
  },
  {
   "cell_type": "code",
   "execution_count": 40,
   "id": "e6ffab0b",
   "metadata": {},
   "outputs": [],
   "source": [
    "PMNA = \"Prince Muhammad Nawaz Allai \""
   ]
  },
  {
   "cell_type": "code",
   "execution_count": 41,
   "id": "61051f7e",
   "metadata": {},
   "outputs": [],
   "source": [
    "PTI = \"PTI \""
   ]
  },
  {
   "cell_type": "code",
   "execution_count": 42,
   "id": "77e35519",
   "metadata": {},
   "outputs": [],
   "source": [
    "PMNA_addressLocal = \"Village Biari Tehsil Allai District Battagram. \""
   ]
  },
  {
   "cell_type": "code",
   "execution_count": 43,
   "id": "5aa3dbed",
   "metadata": {},
   "outputs": [],
   "source": [
    "PMNA_addressPer = \"J-504, Parliament Lodges, Islamabad \""
   ]
  },
  {
   "cell_type": "code",
   "execution_count": 44,
   "id": "dab8804c",
   "metadata": {},
   "outputs": [],
   "source": [
    "PMNA_Contact = \" 0300-5274255\""
   ]
  },
  {
   "cell_type": "code",
   "execution_count": 45,
   "id": "72649f6f",
   "metadata": {},
   "outputs": [],
   "source": [
    "PMNA_NA = NA_12+PMNA+PTI+PMNA_addressLocal+PMNA_addressPer+PMNA_Contact"
   ]
  },
  {
   "cell_type": "code",
   "execution_count": 46,
   "id": "d3c07d79",
   "metadata": {},
   "outputs": [
    {
     "data": {
      "text/plain": [
       "'Battagram Prince Muhammad Nawaz Allai PTI Village Biari Tehsil Allai District Battagram. J-504, Parliament Lodges, Islamabad  0300-5274255'"
      ]
     },
     "execution_count": 46,
     "metadata": {},
     "output_type": "execute_result"
    }
   ],
   "source": [
    "PMNA_NA"
   ]
  },
  {
   "cell_type": "code",
   "execution_count": 47,
   "id": "c8659ab9",
   "metadata": {},
   "outputs": [],
   "source": [
    "NA_13,MSM,PTI,MSM_addressLocal,MSM_addressPer,MSM_Contact = \"NA-13 \",\"Mr. Saleh Muhammad \",\"PTI \",\"Mujahidabad, Post Office Baffa, Tehsil Baffa, District Mansehra. \",\"F-210, Parliament Lodges, Islamabad \",\"0997-300245\""
   ]
  },
  {
   "cell_type": "code",
   "execution_count": 48,
   "id": "4a0877d2",
   "metadata": {},
   "outputs": [],
   "source": [
    "MSM_NA = NA_13+MSM+PTI+MSM_addressLocal+MSM_addressPer+MSM_Contact"
   ]
  },
  {
   "cell_type": "code",
   "execution_count": 49,
   "id": "8ed4f527",
   "metadata": {},
   "outputs": [
    {
     "data": {
      "text/plain": [
       "'NA-13 Mr. Saleh Muhammad PTI Mujahidabad, Post Office Baffa, Tehsil Baffa, District Mansehra. F-210, Parliament Lodges, Islamabad 0997-300245'"
      ]
     },
     "execution_count": 49,
     "metadata": {},
     "output_type": "execute_result"
    }
   ],
   "source": [
    "MSM_NA"
   ]
  },
  {
   "cell_type": "code",
   "execution_count": 1,
   "id": "eb399e37",
   "metadata": {},
   "outputs": [],
   "source": [
    "NA_14,MMS,PML_N,MMSLocalAdres, MMSPerAdress,MMSContac = \"Mansehra-cum-Torghar \",\"Mr. Muhammad Sajjad \",\"PML-N \",\"Hothla Post Office Seer Gharbi Tehsil & District Abbottabad. \",\"A-108, Parliament Lodges, Islamabad \",\"0300-9111802\""
   ]
  },
  {
   "cell_type": "code",
   "execution_count": 5,
   "id": "71afc748",
   "metadata": {},
   "outputs": [],
   "source": [
    "MMS_NA = NA_14+MMS+PML_N+MMSLocalAdres+MMSPerAdress+MMSContac"
   ]
  },
  {
   "cell_type": "code",
   "execution_count": 7,
   "id": "36c11293",
   "metadata": {},
   "outputs": [
    {
     "data": {
      "text/plain": [
       "'Mansehra-cum-Torghar Mr. Muhammad Sajjad PML-N Hothla Post Office Seer Gharbi Tehsil & District Abbottabad. A-108, Parliament Lodges, Islamabad 0300-9111802'"
      ]
     },
     "execution_count": 7,
     "metadata": {},
     "output_type": "execute_result"
    }
   ],
   "source": [
    "MMS_NA"
   ]
  },
  {
   "cell_type": "code",
   "execution_count": 8,
   "id": "3c450ee0",
   "metadata": {},
   "outputs": [],
   "source": [
    "NA_15,MJA,PML_N,MJALocalAdress,MJAPerAddres,MJAContact=\"Abbottabad-I \",\"Mr. Murtaza Javed Abbasi \",\"PML-N \",\"\tHothla Post Office Seer Gharbi Tehsil & District Abbottabad. \",\"A-108, Parliament Lodges, Islamabad \",\"0300-9111802\""
   ]
  },
  {
   "cell_type": "code",
   "execution_count": 9,
   "id": "59ba6e24",
   "metadata": {},
   "outputs": [],
   "source": [
    "MJA_NA = NA_15+MJA+PML_N+MJALocalAdress+MJAPerAddres+MJAContact"
   ]
  },
  {
   "cell_type": "code",
   "execution_count": 10,
   "id": "cf0b3109",
   "metadata": {},
   "outputs": [
    {
     "data": {
      "text/plain": [
       "'Abbottabad-I Mr. Murtaza Javed Abbasi PML-N \\tHothla Post Office Seer Gharbi Tehsil & District Abbottabad. A-108, Parliament Lodges, Islamabad 0300-9111802'"
      ]
     },
     "execution_count": 10,
     "metadata": {},
     "output_type": "execute_result"
    }
   ],
   "source": [
    "MJA_NA"
   ]
  },
  {
   "cell_type": "code",
   "execution_count": 13,
   "id": "e522e11c",
   "metadata": {},
   "outputs": [],
   "source": [
    "NA_21,AHAK,ANP,AHAKLOcalAdres,AHAKperAdres,AHAKCconact = \"Mardan-II \",\"Mr. Amir Haider Azam Khan \",\"ANP \",\"\tNear Khyber Tobacco Company, Nowshera Road, Mardan. \",\"J-207 Parliament Lodges Islamabad \",\"0334-9175667\","
   ]
  },
  {
   "cell_type": "code",
   "execution_count": 14,
   "id": "6337fc3c",
   "metadata": {},
   "outputs": [],
   "source": [
    "AHAK_NA = NA_21+AHAK+ANP+AHAKLOcalAdres+AHAKperAdres+AHAKCconact"
   ]
  },
  {
   "cell_type": "code",
   "execution_count": 15,
   "id": "ab907f2c",
   "metadata": {},
   "outputs": [
    {
     "data": {
      "text/plain": [
       "'Mardan-II Mr. Amir Haider Azam Khan ANP \\tNear Khyber Tobacco Company, Nowshera Road, Mardan. J-207 Parliament Lodges Islamabad 0334-9175667'"
      ]
     },
     "execution_count": 15,
     "metadata": {},
     "output_type": "execute_result"
    }
   ],
   "source": [
    "AHAK_NA"
   ]
  },
  {
   "cell_type": "code",
   "execution_count": 2,
   "id": "917846b9",
   "metadata": {},
   "outputs": [],
   "source": [
    "NA_27,NAK,PTI,NAKLocalAdres,NAKPerAdres,NAKContact = \"NA-27 \",\"Mr. Noor Alam Khan \",\"PTI \",\"Village Haryana Payan Peshawar \",\"C-108, Parliament Lodges, Islamabad \",\"091-5223082\""
   ]
  },
  {
   "cell_type": "code",
   "execution_count": 3,
   "id": "40a4e496",
   "metadata": {},
   "outputs": [],
   "source": [
    "NAK_NA = NA_27+NAK+PTI+NAKLocalAdres+NAKPerAdres+NAKContact "
   ]
  },
  {
   "cell_type": "code",
   "execution_count": 4,
   "id": "c2276075",
   "metadata": {},
   "outputs": [
    {
     "data": {
      "text/plain": [
       "'NA-27 Mr. Noor Alam Khan PTI Village Haryana Payan Peshawar C-108, Parliament Lodges, Islamabad 091-5223082'"
      ]
     },
     "execution_count": 4,
     "metadata": {},
     "output_type": "execute_result"
    }
   ],
   "source": [
    "NAK_NA"
   ]
  },
  {
   "cell_type": "code",
   "execution_count": 6,
   "id": "879c4e0e",
   "metadata": {},
   "outputs": [],
   "source": [
    "NA_29, NKM, PTI, NKMLocalAdd, NKMPerAdd, NKMContact = \"Peshawar-III\", \"Mr. Nasir Khan Musazai \", \"PTI \" , \"Musa Zai House, Phandu Road, PO Musa Zai Tehsil & District Peshawar. \" , \"G-404, Parliament Lodges Islamabad \" , \"0300-8155466\""
   ]
  },
  {
   "cell_type": "code",
   "execution_count": 7,
   "id": "dd3358e6",
   "metadata": {},
   "outputs": [],
   "source": [
    "NKM_NA = NA_29+ NKM+ PTI+ NKMLocalAdd+ NKMPerAdd+ NKMContact"
   ]
  },
  {
   "cell_type": "code",
   "execution_count": 8,
   "id": "592c381d",
   "metadata": {},
   "outputs": [
    {
     "data": {
      "text/plain": [
       "'Peshawar-IIIMr. Nasir Khan Musazai PTI Musa Zai House, Phandu Road, PO Musa Zai Tehsil & District Peshawar. G-404, Parliament Lodges Islamabad 0300-8155466'"
      ]
     },
     "execution_count": 8,
     "metadata": {},
     "output_type": "execute_result"
    }
   ],
   "source": [
    "NKM_NA"
   ]
  },
  {
   "cell_type": "code",
   "execution_count": null,
   "id": "739058bc",
   "metadata": {},
   "outputs": [],
   "source": []
  }
 ],
 "metadata": {
  "kernelspec": {
   "display_name": "Python 3 (ipykernel)",
   "language": "python",
   "name": "python3"
  },
  "language_info": {
   "codemirror_mode": {
    "name": "ipython",
    "version": 3
   },
   "file_extension": ".py",
   "mimetype": "text/x-python",
   "name": "python",
   "nbconvert_exporter": "python",
   "pygments_lexer": "ipython3",
   "version": "3.9.13"
  }
 },
 "nbformat": 4,
 "nbformat_minor": 5
}
